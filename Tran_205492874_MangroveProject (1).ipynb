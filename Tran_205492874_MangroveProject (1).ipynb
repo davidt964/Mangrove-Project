{
  "nbformat": 4,
  "nbformat_minor": 0,
  "metadata": {
    "colab": {
      "name": "Tran_205492874_MangroveProject.ipynb",
      "provenance": []
    },
    "kernelspec": {
      "name": "python3",
      "display_name": "Python 3"
    }
  },
  "cells": [
    {
      "cell_type": "markdown",
      "metadata": {
        "id": "yX5PKL7OMGYy"
      },
      "source": [
        "Author: David Tran \\\\\n",
        "UCLA ID: 205-492-874 \\\\\n",
        "Project 1: Mangroves"
      ]
    },
    {
      "cell_type": "code",
      "metadata": {
        "id": "E1sDVNOG35Rt",
        "outputId": "a9b6ba06-6ce8-4256-970c-2b4eb3c368d0",
        "colab": {
          "base_uri": "https://localhost:8080/",
          "height": 1000
        }
      },
      "source": [
        "#Problem 3\n",
        "import numpy as np\n",
        "import matplotlib.pyplot as plt \n",
        "\n",
        "np.set_printoptions(precision = 3, suppress=True)\n",
        "mangrove = np.array(([0,0,0,0,0,500,1000],[.2,.666,0,0,0,0,0],[0,.083,.825,0,0,0,0],[0,0,.01,.909,0,0,0],[0,0,0,.073,.963,0,0],[0,0,0,0,.008,.98,0],[0,0,0,0,0,.012,.999]))\n",
        "time = np.array(([0,1,2,3,4,5,6,7,8,9,10,11]))\n",
        "\n",
        "#Discrete Time Model\n",
        "initialCond = np.array(([100],[100],[100],[100],[100],[100],[100]))  #Initial condition of 100 for each stage, plotting the cotyledonary stage\n",
        "initialCond2 = np.array(([1],[50],[10],[14],[12],[99],[100])) #Plotting the sapling stage\n",
        "initialCond3 = np.array(([800],[1],[2],[45],[999],[120],[743]))  #Plotting the tree stage\n",
        "\n",
        "for t in range(11):\n",
        "  initialCond = np.append(initialCond, np.matmul(mangrove, initialCond[:,-1:]), axis=1)\n",
        "  initialCond2 = np.append(initialCond2, np.matmul(mangrove, initialCond2[:,-1:]), axis=1)\n",
        "  initialCond3 = np.append(initialCond3, np.matmul(mangrove, initialCond3[:,-1:]), axis=1)\n",
        "\n",
        "print(initialCond)\n",
        "print(initialCond2)\n",
        "print(initialCond3)\n",
        "cotyledon = initialCond[1,:]\n",
        "sapling = initialCond2[3,:]\n",
        "tree = initialCond3[5,:]\n",
        "\n",
        "#Plotting Data\n",
        "plt.plot(time, cotyledon)\n",
        "plt.xlabel('Years Since Type a Disturbance')\n",
        "plt.ylabel('Cotyledonary Population')\n",
        "plt.title('Cotyledonary Population vs. Time')\n",
        "plt.xlim(0,11)\n",
        "plt.ylim(0,100000)\n",
        "plt.show()\n",
        "\n",
        "plt.plot(time, sapling)\n",
        "plt.xlabel('Years Since Type a Disturbance')\n",
        "plt.ylabel('Sapling Population')\n",
        "plt.title('Sapling Population vs. Time')\n",
        "plt.xlim(0,11)\n",
        "plt.ylim(0,1100)\n",
        "plt.show()\n",
        "\n",
        "plt.plot(time, tree)\n",
        "plt.xlabel('Years Since Type a Disturbance')\n",
        "plt.ylabel('Tree Population')\n",
        "plt.title('Tree Population vs. Time')\n",
        "plt.xlim(0,11)\n",
        "plt.ylim(100,200)\n",
        "plt.show()"
      ],
      "execution_count": null,
      "outputs": [
        {
          "output_type": "stream",
          "text": [
            "[[   100.    150000.    150500.    151010.9   151529.923 152054.574\n",
            "  152582.612 153119.299 153680.067 154290.607 154985.618 155806.953]\n",
            " [   100.        86.6    30057.676  50118.412  63581.042  72650.959\n",
            "   78796.453  82994.96   85898.503  87944.417  89429.103  90556.906]\n",
            " [   100.        90.8       82.098   2562.518   6273.905  10453.198\n",
            "   14653.918  18629.588  22257.992  25492.419  28330.632  30795.387]\n",
            " [   100.        91.9       84.445     77.582     96.147    150.137\n",
            "     241.006    365.614    518.639    694.023    885.791   1088.49 ]\n",
            " [   100.       103.6      106.475    108.7      110.342    113.278\n",
            "     120.047    133.198    154.96     187.087    230.828    286.95 ]\n",
            " [   100.        98.8       97.653     96.552     95.49      94.463\n",
            "      93.48      92.571     91.785     91.189     90.862     90.891]\n",
            " [   100.       101.1      102.184    103.254    104.31     105.351\n",
            "     106.379    107.395    108.398    109.391    110.376    111.356]]\n",
            "[[     1.    149500.    149646.    149789.456 149930.048 150067.506\n",
            "  150201.6   150339.378 150497.832 150703.97  150993.562 151409.276]\n",
            " [    50.        33.5    29922.311  49857.459  63162.959  72052.54\n",
            "   78000.493  81988.648  84672.315  86491.328  87744.019  88636.229]\n",
            " [    10.        12.4       13.011   2494.285   6195.955  10354.188\n",
            "   14522.566  18455.158  22030.563  25203.017  27971.269  30359.051]\n",
            " [    14.        12.826     11.783     10.841     34.797     93.59\n",
            "     188.615    316.677    472.411    649.727    842.632   1045.665]\n",
            " [    12.        12.578     13.049     13.426     13.721     15.753\n",
            "      22.003     34.957     56.781     89.166    133.297    189.878]\n",
            " [    99.        97.116     95.274     93.473     91.711     89.987\n",
            "      88.313     86.723     85.268     84.017     83.05      82.455]\n",
            " [   100.       101.088    102.152    103.193    104.212    105.208\n",
            "     106.183    107.136    108.07     108.985    109.884    110.771]]\n",
            "[[   800.    803000.    806493.    809861.775 813109.291 816238.514\n",
            "  819252.445 822193.005 825155.468 828289.074 831790.408 835893.591]\n",
            " [     1.       160.666 160707.004 268329.464 340679.778 389514.59\n",
            "  422664.42  445344.993 461038.366 472082.646 480064.857 486081.276]\n",
            " [     2.         1.733     14.765  13350.862  33285.807  55737.212\n",
            "   78312.911  99689.299 119207.306 136612.212 151887.934 165152.929]\n",
            " [    45.        40.925     37.218     33.979    164.395    482.294\n",
            "     995.777   1688.29    2531.549   3493.251   4541.487   5647.091]\n",
            " [   999.       965.322    932.593    900.804    869.954    849.767\n",
            "     853.533    894.644    984.787   1133.153   1346.234   1627.952]\n",
            " [   120.       125.592    130.803    135.647    140.141    144.298\n",
            "     148.21     152.074    156.19     160.944    166.79     174.225]\n",
            " [   743.       743.697    744.46     745.286    746.168    747.104\n",
            "     748.088    749.118    750.194    751.318    752.498    753.747]]\n"
          ],
          "name": "stdout"
        },
        {
          "output_type": "display_data",
          "data": {
            "image/png": "[encoded data removed]",
            "text/plain": [
              "<Figure size 432x288 with 1 Axes>"
            ]
          },
          "metadata": {
            "tags": [],
            "needs_background": "light"
          }
        },
        {
          "output_type": "display_data",
          "data": {
            "image/png": "[encoded data removed]",
            "text/plain": [
              "<Figure size 432x288 with 1 Axes>"
            ]
          },
          "metadata": {
            "tags": [],
            "needs_background": "light"
          }
        },
        {
          "output_type": "display_data",
          "data": {
            "image/png": "[encoded data removed]",
            "text/plain": [
              "<Figure size 432x288 with 1 Axes>"
            ]
          },
          "metadata": {
            "tags": [],
            "needs_background": "light"
          }
        }
      ]
    },
    {
      "cell_type": "code",
      "metadata": {
        "id": "qLQVt-XTBWd-",
        "outputId": "78f54faf-dfcd-496a-a6e9-06ac205a01b8",
        "colab": {
          "base_uri": "https://localhost:8080/",
          "height": 289
        }
      },
      "source": [
        "#Problem 4\n",
        "import numpy as np\n",
        "\n",
        "np.set_printoptions(precision = 5, suppress=True)\n",
        "mangrove = np.array(([0,0,0,0,0,500,1000],[.2,.666,0,0,0,0,0],[0,.083,.825,0,0,0,0],[0,0,.01,.909,0,0,0],[0,0,0,.073,.963,0,0],[0,0,0,0,.008,.98,0],[0,0,0,0,0,.012,.999]))\n",
        "\n",
        "evals, evec = np.linalg.eig(mangrove)\n",
        "\n",
        "print(evals)\n",
        "print(evec)"
      ],
      "execution_count": null,
      "outputs": [
        {
          "output_type": "stream",
          "text": [
            "[-0.0001 +0.j       0.69779+0.j       0.73573+0.j       0.94267+0.09656j\n",
            "  0.94267-0.09656j  1.04814+0.j       0.97509+0.j     ]\n",
            "[[ 0.95736+0.j      -0.13192+0.j       0.2472 +0.j      -0.789  +0.j\n",
            "  -0.789  -0.j      -0.87299+0.j       0.70507+0.j     ]\n",
            " [-0.28745+0.j      -0.82988+0.j       0.70902+0.j      -0.50842+0.17744j\n",
            "  -0.50842-0.17744j -0.45689+0.j       0.45622+0.j     ]\n",
            " [ 0.02892+0.j       0.54148+0.j      -0.65923+0.j      -0.15294+0.25065j\n",
            "  -0.15294-0.25065j -0.16995+0.j       0.2523 +0.j     ]\n",
            " [-0.00032+0.j      -0.02564+0.j       0.03805+0.j       0.01822+0.02219j\n",
            "   0.01822-0.02219j -0.01221+0.j       0.03818+0.j     ]\n",
            " [ 0.00002+0.j       0.00706+0.j      -0.01222+0.j       0.01329-0.01657j\n",
            "   0.01329+0.01657j -0.01047+0.j       0.23056+0.j     ]\n",
            " [-0.     +0.j      -0.0002 +0.j       0.0004 +0.j      -0.00156-0.0005j\n",
            "  -0.00156+0.0005j  -0.00123+0.j      -0.37546+0.j     ]\n",
            " [ 0.     +0.j       0.00001+0.j      -0.00002+0.j       0.00004+0.00017j\n",
            "   0.00004-0.00017j -0.0003 +0.j       0.18842+0.j     ]]\n"
          ],
          "name": "stdout"
        }
      ]
    },
    {
      "cell_type": "code",
      "metadata": {
        "id": "F35buQeKI760",
        "outputId": "ba2b53b2-4bd1-4811-a12c-4602c1c401fa",
        "colab": {
          "base_uri": "https://localhost:8080/",
          "height": 731
        }
      },
      "source": [
        "#Problem 6\n",
        "#Multiply one element by 5% per matrix, yielding 14 matrices\n",
        "import numpy as np\n",
        "\n",
        "mangrove = np.array(([0,0,0,0,0,500,1000],[.2,.666,0,0,0,0,0],[0,.083,.825,0,0,0,0],[0,0,.01,.909,0,0,0],[0,0,0,.073,.963,0,0],[0,0,0,0,.008,.98,0],[0,0,0,0,0,.012,.999]))\n",
        "\n",
        "M1 = mangrove.copy()\n",
        "M1[0,5] = M1[0,5] * 1.05\n",
        "M2 = mangrove.copy()\n",
        "M2[0,6] = M2[0,6] * 1.05\n",
        "M3 = mangrove.copy()\n",
        "M3[1,0] = M3[1,0] * 1.05\n",
        "M4 = mangrove.copy()\n",
        "M4[1,1] = M4[1,1] * 1.05\n",
        "M5 = mangrove.copy()\n",
        "M5[2,1] = M5[2,1] * 1.05\n",
        "M6 = mangrove.copy()\n",
        "M6[2,2] = M6[2,2] * 1.05\n",
        "M7 = mangrove.copy()\n",
        "M7[3,2] = M7[3,2] * 1.05\n",
        "M8 = mangrove.copy()\n",
        "M8[3,3] = M8[3,3] * 1.05\n",
        "M9 = mangrove.copy()\n",
        "M9[4,3] = M9[4,3] * 1.05\n",
        "M10 = mangrove.copy()\n",
        "M10[4,4] = M10[4,4] * 1.05\n",
        "M11 = mangrove.copy()\n",
        "M11[5,4] = M11[5,4] * 1.05\n",
        "M12 = mangrove.copy()\n",
        "M12[5,5] = M12[5,5] * 1.05\n",
        "M13 = mangrove.copy()\n",
        "M13[6,5] = M13[6,5] * 1.05\n",
        "M14 = mangrove.copy()\n",
        "M14[6,6] = M14[6,6] * 1.05\n",
        "\n",
        "eval1, evec1 = np.linalg.eig(M1)\n",
        "print(eval1)\n",
        "eval2, evec2 = np.linalg.eig(M2)\n",
        "print(eval2)\n",
        "eval3, evec3 = np.linalg.eig(M3)\n",
        "print(eval3)\n",
        "eval4, evec4 = np.linalg.eig(M4)\n",
        "print(eval4)\n",
        "eval5, evec5 = np.linalg.eig(M5)\n",
        "print(eval5)\n",
        "eval6, evec6 = np.linalg.eig(M6)\n",
        "print(eval6)\n",
        "eval7, evec7 = np.linalg.eig(M7)\n",
        "print(eval7)\n",
        "eval8, evec8 = np.linalg.eig(M8)\n",
        "print(eval8)\n",
        "eval9, evec9 = np.linalg.eig(M9)\n",
        "print(eval9)\n",
        "eval10, evec10 = np.linalg.eig(M10)\n",
        "print(eval10)\n",
        "eval11, evec11 = np.linalg.eig(M11)\n",
        "print(eval11)\n",
        "eval12, evec12 = np.linalg.eig(M12)\n",
        "print(eval12)\n",
        "eval13, evec13 = np.linalg.eig(M13)\n",
        "print(eval13)\n",
        "eval14, evec14 = np.linalg.eig(M14)\n",
        "print(eval14)"
      ],
      "execution_count": null,
      "outputs": [
        {
          "output_type": "stream",
          "text": [
            "[-0.000105+0.j        0.702708+0.j        0.729082+0.j\n",
            "  0.942637+0.098207j  0.942637-0.098207j  1.04883 +0.j\n",
            "  0.976212+0.j      ]\n",
            "[-0.0001  +0.j        0.697471+0.j        0.736261+0.j\n",
            "  0.942996+0.096386j  0.942996-0.096386j  1.048476+0.j\n",
            "  0.9739  +0.j      ]\n",
            "[-0.000105+0.j        0.702226+0.j        0.729763+0.j\n",
            "  0.942938+0.098043j  0.942938-0.098043j  1.049157+0.j\n",
            "  0.975083+0.j      ]\n",
            "[-0.000096+0.j        0.73055 +0.042908j  0.73055 -0.042908j\n",
            "  0.944589+0.099713j  0.944589-0.099713j  1.050041+0.j\n",
            "  0.975078+0.j      ]\n",
            "[-0.000105+0.j        0.702226+0.j        0.729763+0.j\n",
            "  0.942938+0.098043j  0.942938-0.098043j  1.049157+0.j\n",
            "  0.975083+0.j      ]\n",
            "[-0.000096+0.j        0.6859  +0.j        0.770044+0.j\n",
            "  0.94997 +0.101507j  0.94997 -0.101507j  1.052399+0.j\n",
            "  0.975064+0.j      ]\n",
            "[-0.000105+0.j        0.702226+0.j        0.729763+0.j\n",
            "  0.942938+0.098043j  0.942938-0.098043j  1.049157+0.j\n",
            "  0.975083+0.j      ]\n",
            "[-0.000096+0.j        0.688284+0.j        0.755294+0.j\n",
            "  0.956377+0.096953j  0.956377-0.096953j  1.056186+0.j\n",
            "  0.975028+0.j      ]\n",
            "[-0.000105+0.j        0.702226+0.j        0.729763+0.j\n",
            "  0.942938+0.098043j  0.942938-0.098043j  1.049157+0.j\n",
            "  0.975083+0.j      ]\n",
            "[-0.000096+0.j       0.689229+0.j       0.75205 +0.j\n",
            "  0.955613+0.08892j  0.955613-0.08892j  1.063025+0.j\n",
            "  0.974714+0.j     ]\n",
            "[-0.000105+0.j        0.702226+0.j        0.729763+0.j\n",
            "  0.942938+0.098043j  0.942938-0.098043j  1.049157+0.j\n",
            "  0.975083+0.j      ]\n",
            "[-0.000096+0.j        0.68947 +0.j        0.75132 +0.j\n",
            "  0.95352 +0.087207j  0.95352 -0.087207j  1.067265+0.j\n",
            "  0.976001+0.j      ]\n",
            "[-0.0001  +0.j        0.697471+0.j        0.736261+0.j\n",
            "  0.942996+0.096386j  0.942996-0.096386j  1.048476+0.j\n",
            "  0.9739  +0.j      ]\n",
            "[-0.0001  +0.j        0.69876 +0.j        0.733997+0.j\n",
            "  0.940188+0.096127j  0.940188-0.096127j  1.015642+0.j\n",
            "  1.063277+0.j      ]\n"
          ],
          "name": "stdout"
        }
      ]
    },
    {
      "cell_type": "code",
      "metadata": {
        "id": "m4ERHaIDJ3Le",
        "outputId": "453d3024-690d-4713-f96c-069503a33163",
        "colab": {
          "base_uri": "https://localhost:8080/",
          "height": 544
        }
      },
      "source": [
        "#Problem 7\n",
        "import numpy as np\n",
        "\n",
        "np.set_printoptions(precision = 5, suppress=True)\n",
        "typeb = np.array(([0, 0, 0, 0, 0, 500, 1000], [.4, .666, 0, 0, 0, 0, 0], [0, .23, .825, 0, 0, 0, 0], [0, 0, .045, .909, 0, 0, 0], [0, 0, 0, .045, .963, 0, 0], [0, 0, 0, 0, .008, .98, 0], [0, 0, 0, 0, 0, .012, .999]))\n",
        "typebval, typebvec = np.linalg.eig(typeb)\n",
        "\n",
        "print(typeb)\n",
        "print(typebval)\n",
        "print(typebvec)"
      ],
      "execution_count": null,
      "outputs": [
        {
          "output_type": "stream",
          "text": [
            "[[   0.       0.       0.       0.       0.     500.    1000.   ]\n",
            " [   0.4      0.666    0.       0.       0.       0.       0.   ]\n",
            " [   0.       0.23     0.825    0.       0.       0.       0.   ]\n",
            " [   0.       0.       0.045    0.909    0.       0.       0.   ]\n",
            " [   0.       0.       0.       0.045    0.963    0.       0.   ]\n",
            " [   0.       0.       0.       0.       0.008    0.98     0.   ]\n",
            " [   0.       0.       0.       0.       0.       0.012    0.999]]\n",
            "[-0.001529+0.j        0.649706+0.134035j  0.649706-0.134035j\n",
            "  0.969638+0.199544j  0.969638-0.199544j  1.129836+0.j\n",
            "  0.975006+0.j      ]\n",
            "[[-0.849123+0.j        0.114716+0.194972j  0.114716-0.194972j\n",
            "   0.458699+0.301447j  0.458699-0.301447j -0.676368+0.j\n",
            "   0.092575+0.j      ]\n",
            " [ 0.508816+0.j        0.532366-0.407064j  0.532366+0.407064j\n",
            "   0.604271+0.j        0.604271-0.j       -0.583283+0.j\n",
            "   0.119836+0.j      ]\n",
            " [-0.141589+0.j       -0.698507+0.j       -0.698507-0.j\n",
            "   0.330965-0.456602j  0.330965+0.456602j -0.44009 +0.j\n",
            "   0.183742+0.j      ]\n",
            " [ 0.006998+0.j        0.095663+0.04945j   0.095663-0.04945j\n",
            "  -0.073502-0.096973j -0.073502+0.096973j -0.089678+0.j\n",
            "   0.125268+0.j      ]\n",
            " [-0.000326+0.j       -0.009046-0.010973j -0.009046+0.010973j\n",
            "  -0.022395+0.015831j -0.022395-0.015831j -0.024188+0.j\n",
            "   0.469529+0.j      ]\n",
            " [ 0.000003+0.j        0.000096+0.000305j  0.000096-0.000305j\n",
            "   0.000679+0.000863j  0.000679-0.000863j -0.001291+0.j\n",
            "  -0.752112+0.j      ]\n",
            " [-0.      +0.j        0.000001-0.00001j   0.000001+0.00001j\n",
            "   0.000045-0.000047j  0.000045+0.000047j -0.000118+0.j\n",
            "   0.376146+0.j      ]]\n"
          ],
          "name": "stdout"
        }
      ]
    }
  ]
}